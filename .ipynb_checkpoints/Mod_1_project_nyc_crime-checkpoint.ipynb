{
 "cells": [
  {
   "cell_type": "code",
   "execution_count": 1,
   "metadata": {},
   "outputs": [],
   "source": [
    "import pandas as pd\n",
    "records = pd.read_json(\"https://data.cityofnewyork.us/resource/7x9x-zpz6.json?$limit=300000\")"
   ]
  },
  {
   "cell_type": "code",
   "execution_count": 2,
   "metadata": {},
   "outputs": [
    {
     "data": {
      "text/plain": [
       "{'addr_pct_cd': 19,\n",
       " 'boro_nm': 'MANHATTAN',\n",
       " 'cmplnt_fr_dt': '2018-06-07T00:00:00.000',\n",
       " 'cmplnt_fr_tm': '13:20:00',\n",
       " 'cmplnt_num': 568680571,\n",
       " 'cmplnt_to_dt': '2018-06-07T00:00:00.000',\n",
       " 'cmplnt_to_tm': '13:30:00',\n",
       " 'crm_atpt_cptd_cd': 'COMPLETED',\n",
       " 'hadevelopt': nan,\n",
       " 'housing_psa': nan,\n",
       " 'juris_desc': 'N.Y. POLICE DEPT',\n",
       " 'jurisdiction_code': 0.0,\n",
       " 'ky_cd': 105,\n",
       " 'lat_lon': {'type': 'Point', 'coordinates': [-73.955834874, 40.779163]},\n",
       " 'latitude': 40.779163,\n",
       " 'law_cat_cd': 'FELONY',\n",
       " 'loc_of_occur_desc': 'FRONT OF',\n",
       " 'longitude': -73.955834874,\n",
       " 'ofns_desc': 'ROBBERY',\n",
       " 'parks_nm': nan,\n",
       " 'patrol_boro': 'PATROL BORO MAN NORTH',\n",
       " 'pd_cd': 384.0,\n",
       " 'pd_desc': 'ROBBERY,POCKETBOOK/CARRIED BAG',\n",
       " 'prem_typ_desc': 'STREET',\n",
       " 'rpt_dt': '2018-06-07T00:00:00.000',\n",
       " 'station_name': nan,\n",
       " 'susp_age_group': '25-44',\n",
       " 'susp_race': 'BLACK',\n",
       " 'susp_sex': 'M',\n",
       " 'transit_district': nan,\n",
       " 'vic_age_group': '25-44',\n",
       " 'vic_race': 'BLACK',\n",
       " 'vic_sex': 'F',\n",
       " 'x_coord_cd': 996482.0,\n",
       " 'y_coord_cd': 223147.0}"
      ]
     },
     "execution_count": 2,
     "metadata": {},
     "output_type": "execute_result"
    }
   ],
   "source": [
    "crime_data = records.to_dict('records')\n",
    "crime_data"
   ]
  },
  {
   "cell_type": "code",
   "execution_count": 3,
   "metadata": {},
   "outputs": [],
   "source": [
    "setlist_competance = set(list(map(lambda crime:crime['crm_atpt_cptd_cd'],crime_data)))\n",
    "list_competance = list(map(lambda crime:crime['crm_atpt_cptd_cd'],crime_data))"
   ]
  },
  {
   "cell_type": "code",
   "execution_count": 62,
   "metadata": {},
   "outputs": [
    {
     "data": {
      "text/plain": [
       "[{'status': 'COMPLETED', 'count': 225082},\n",
       " {'status': 'ATTEMPTED', 'count': 3823}]"
      ]
     },
     "execution_count": 62,
     "metadata": {},
     "output_type": "execute_result"
    }
   ],
   "source": [
    "def count_function_sorted_most_least(unique_list, full_list):\n",
    "    CF=[]\n",
    "    for list_item in unique_list:\n",
    "        CF_dict = {}\n",
    "        CF_dict['status'] = list_item\n",
    "        CF_dict['count'] = full_list.count(list_item)\n",
    "        CF.append(CF_dict)\n",
    "    #return CF_dict\n",
    "    return sorted(CF, key=lambda k:k['count'],reverse=True)\n",
    "\n",
    "def data_query(data,dict_key):\n",
    "    set_list = set(list(map(lambda crime:crime[str(dict_key)],data)))\n",
    "    full_instance_list = list(map(lambda crime:crime[str(dict_key)],data))\n",
    "    result = count_function_sorted_most_least(set_list,full_instance_list)\n",
    "    return result\n",
    "\n",
    "data_query(crime_data,'crm_atpt_cptd_cd')"
   ]
  },
  {
   "cell_type": "code",
   "execution_count": 5,
   "metadata": {},
   "outputs": [],
   "source": [
    "compentance = count_function_sorted_most_least(setlist_competance, list_competance)"
   ]
  },
  {
   "cell_type": "code",
   "execution_count": 61,
   "metadata": {},
   "outputs": [
    {
     "data": {
      "text/plain": [
       "[{'status': 'COMPLETED', 'count': 225082},\n",
       " {'status': 'ATTEMPTED', 'count': 3823}]"
      ]
     },
     "execution_count": 61,
     "metadata": {},
     "output_type": "execute_result"
    }
   ],
   "source": [
    "compentance"
   ]
  },
  {
   "cell_type": "code",
   "execution_count": 7,
   "metadata": {},
   "outputs": [],
   "source": [
    "foo= list(list(map(lambda stat: stat.keys(),crime_data))[0])"
   ]
  },
  {
   "cell_type": "code",
   "execution_count": 8,
   "metadata": {},
   "outputs": [
    {
     "data": {
      "text/plain": [
       "'2018-06-07'"
      ]
     },
     "execution_count": 8,
     "metadata": {},
     "output_type": "execute_result"
    }
   ],
   "source": [
    "crime_data[0]['cmplnt_fr_dt'].split('T', 1)[0]"
   ]
  },
  {
   "cell_type": "code",
   "execution_count": 30,
   "metadata": {},
   "outputs": [
    {
     "data": {
      "text/plain": [
       "{'addr_pct_cd': 40,\n",
       " 'boro_nm': 'BRONX',\n",
       " 'cmplnt_fr_dt': '2018-06-16T00:00:00.000',\n",
       " 'cmplnt_fr_tm': '18:00:00',\n",
       " 'cmplnt_num': 740647006,\n",
       " 'cmplnt_to_dt': '2018-06-17T00:00:00.000',\n",
       " 'cmplnt_to_tm': '05:00:00',\n",
       " 'crm_atpt_cptd_cd': 'COMPLETED',\n",
       " 'hadevelopt': nan,\n",
       " 'housing_psa': nan,\n",
       " 'juris_desc': 'N.Y. POLICE DEPT',\n",
       " 'jurisdiction_code': 0.0,\n",
       " 'ky_cd': 109,\n",
       " 'lat_lon': {'type': 'Point', 'coordinates': [-73.916571116, 40.822837337]},\n",
       " 'latitude': 40.822837337,\n",
       " 'law_cat_cd': 'FELONY',\n",
       " 'loc_of_occur_desc': nan,\n",
       " 'longitude': -73.916571116,\n",
       " 'ofns_desc': 'GRAND LARCENY',\n",
       " 'parks_nm': nan,\n",
       " 'patrol_boro': 'PATROL BORO BRONX',\n",
       " 'pd_cd': 421.0,\n",
       " 'pd_desc': 'LARCENY,GRAND FROM VEHICLE/MOTORCYCLE',\n",
       " 'prem_typ_desc': 'STREET',\n",
       " 'rpt_dt': '2018-06-17T00:00:00.000',\n",
       " 'station_name': nan,\n",
       " 'susp_age_group': 'UNKNOWN',\n",
       " 'susp_race': 'UNKNOWN',\n",
       " 'susp_sex': 'U',\n",
       " 'transit_district': nan,\n",
       " 'vic_age_group': '45-64',\n",
       " 'vic_race': 'WHITE HISPANIC',\n",
       " 'vic_sex': 'M',\n",
       " 'x_coord_cd': 1007341.0,\n",
       " 'y_coord_cd': 239067.0}"
      ]
     },
     "execution_count": 30,
     "metadata": {},
     "output_type": "execute_result"
    }
   ],
   "source": [
    "crime_data[1]"
   ]
  },
  {
   "cell_type": "code",
   "execution_count": 9,
   "metadata": {},
   "outputs": [],
   "source": [
    "def clean_crime_data_master(data):\n",
    "    clean_date_of_occurance = list(map(lambda event:event['cmplnt_fr_dt'].split('T', 1)[0],data))\n",
    "    clean_report_date = list(map(lambda event:event['rpt_dt'].split('T', 1)[0],clean_date_of_occurance))\n",
    "    clean_law_cat = list(map(lambda event:event['law_cat_cd'].title(),clean_report_date))\n",
    "    clean_both_age_groups = list(map(lambda event:clean_age_groups(event,bad_ages_finder(data)),clean_law_cat))\n",
    "    "
   ]
  },
  {
   "cell_type": "code",
   "execution_count": 68,
   "metadata": {},
   "outputs": [
    {
     "data": {
      "text/plain": [
       "{'-2',\n",
       " '-43',\n",
       " '-5',\n",
       " '-51',\n",
       " '-55',\n",
       " '-61',\n",
       " '-63',\n",
       " '-76',\n",
       " '-940',\n",
       " '-942',\n",
       " '-955',\n",
       " '-956',\n",
       " '-958',\n",
       " '-968',\n",
       " '-972',\n",
       " '-974',\n",
       " '-978',\n",
       " '1012',\n",
       " '1017',\n",
       " '1018',\n",
       " '1967',\n",
       " '2018',\n",
       " '920',\n",
       " '922',\n",
       " '928',\n",
       " '938',\n",
       " '951',\n",
       " '952',\n",
       " '954',\n",
       " '970',\n",
       " '972',\n",
       " 'UNKNOWN',\n",
       " nan}"
      ]
     },
     "execution_count": 68,
     "metadata": {},
     "output_type": "execute_result"
    }
   ],
   "source": [
    "def bad_ages_finder(data):\n",
    "    vic_bad_values = list(set(list(map(lambda x: x['vic_age_group'],data))))\n",
    "    susp_bad_values = list(set(list(map(lambda x: x['susp_age_group'],data))))\n",
    "    all_age_values = set(vic_bad_values+susp_bad_values)\n",
    "    bad_ages_1 = list(filter(lambda x:x!=('<18'),all_age_values))\n",
    "    bad_ages_2 = list(filter(lambda x:x!=('18-24'),bad_ages_1))\n",
    "    bad_ages_3 = list(filter(lambda x:x!=('25-44'),bad_ages_2))\n",
    "    bad_ages_4 = list(filter(lambda x:x!=('45-64'),bad_ages_3))\n",
    "    bad_ages = list(filter(lambda x:x!=('65+'),bad_ages_4))\n",
    "    return bad_ages\n",
    "bad_ages = set(bad_ages_finder(crime_data))\n",
    "bad_ages"
   ]
  },
  {
   "cell_type": "code",
   "execution_count": 58,
   "metadata": {
    "scrolled": true
   },
   "outputs": [
    {
     "data": {
      "text/plain": [
       "{'addr_pct_cd': 40,\n",
       " 'boro_nm': 'BRONX',\n",
       " 'cmplnt_fr_dt': '2018-06-16T00:00:00.000',\n",
       " 'cmplnt_fr_tm': '18:00:00',\n",
       " 'cmplnt_num': 740647006,\n",
       " 'cmplnt_to_dt': '2018-06-17T00:00:00.000',\n",
       " 'cmplnt_to_tm': '05:00:00',\n",
       " 'crm_atpt_cptd_cd': 'COMPLETED',\n",
       " 'hadevelopt': nan,\n",
       " 'housing_psa': nan,\n",
       " 'juris_desc': 'N.Y. POLICE DEPT',\n",
       " 'jurisdiction_code': 0.0,\n",
       " 'ky_cd': 109,\n",
       " 'lat_lon': {'type': 'Point', 'coordinates': [-73.916571116, 40.822837337]},\n",
       " 'latitude': 40.822837337,\n",
       " 'law_cat_cd': 'FELONY',\n",
       " 'loc_of_occur_desc': nan,\n",
       " 'longitude': -73.916571116,\n",
       " 'ofns_desc': 'GRAND LARCENY',\n",
       " 'parks_nm': nan,\n",
       " 'patrol_boro': 'PATROL BORO BRONX',\n",
       " 'pd_cd': 421.0,\n",
       " 'pd_desc': 'LARCENY,GRAND FROM VEHICLE/MOTORCYCLE',\n",
       " 'prem_typ_desc': 'STREET',\n",
       " 'rpt_dt': '2018-06-17T00:00:00.000',\n",
       " 'station_name': nan,\n",
       " 'susp_age_group': 'Not Available',\n",
       " 'susp_race': 'UNKNOWN',\n",
       " 'susp_sex': 'U',\n",
       " 'transit_district': nan,\n",
       " 'vic_age_group': '45-64',\n",
       " 'vic_race': 'WHITE HISPANIC',\n",
       " 'vic_sex': 'M',\n",
       " 'x_coord_cd': 1007341.0,\n",
       " 'y_coord_cd': 239067.0}"
      ]
     },
     "execution_count": 58,
     "metadata": {},
     "output_type": "execute_result"
    }
   ],
   "source": [
    "def clean_age_groups(data,remove_list):\n",
    "    Ori_data = data.copy()\n",
    "    for bad in remove_list:\n",
    "        if Ori_data['susp_age_group'] == bad:\n",
    "            Ori_data['susp_age_group'] = 'Not Available'\n",
    "    for bad in remove_list:\n",
    "        if Ori_data['vic_age_group'] == bad:\n",
    "            Ori_data['vic_age_group'] = 'Not Available'      \n",
    "    return Ori_data\n",
    "            \n",
    "clean_age_groups(crime_data[1],bad_ages)"
   ]
  },
  {
   "cell_type": "code",
   "execution_count": null,
   "metadata": {
    "scrolled": true
   },
   "outputs": [],
   "source": [
    "data_query(crime_data,'latitude')"
   ]
  },
  {
   "cell_type": "code",
   "execution_count": 51,
   "metadata": {},
   "outputs": [],
   "source": []
  }
 ],
 "metadata": {
  "kernelspec": {
   "display_name": "Python 3",
   "language": "python",
   "name": "python3"
  },
  "language_info": {
   "codemirror_mode": {
    "name": "ipython",
    "version": 3
   },
   "file_extension": ".py",
   "mimetype": "text/x-python",
   "name": "python",
   "nbconvert_exporter": "python",
   "pygments_lexer": "ipython3",
   "version": "3.7.0"
  }
 },
 "nbformat": 4,
 "nbformat_minor": 2
}
